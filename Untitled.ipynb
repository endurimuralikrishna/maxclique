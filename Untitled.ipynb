{
 "cells": [
  {
   "cell_type": "code",
   "execution_count": 53,
   "id": "aaaf1397",
   "metadata": {},
   "outputs": [
    {
     "name": "stdout",
     "output_type": "stream",
     "text": [
      "3\n",
      "1\n",
      "1\n",
      "4\n",
      "5\n",
      "22\n",
      "32\n",
      "1\n",
      "1\n",
      "1\n",
      "1\n",
      "2\n"
     ]
    }
   ],
   "source": [
    "import pandas as pd\n",
    "import ast\n",
    "df=pd.read_excel('Alldatasetoutputs.xlsx')\n",
    "#print(df.head())\n",
    "\n",
    "#print(df2.head())\n",
    "#def fix_list(s):\n",
    "    #s1 = s.strip() #strip white space at the edge of the string\n",
    "    #print(s)\n",
    "    #s1 = s[1:-1]  # remove edge parenthesis \n",
    "    #s1 = s1.replace('][' ,'],[')  # make some replacements so that it looks like a nested list\n",
    "#    return ast.literal_eval(s) # transform string to a nested list\n",
    "\n",
    "df2 = df.iloc[:,[7]]\n",
    "\n",
    "for i in df2.values:\n",
    "    l=ast.literal_eval(i[0])\n",
    "    print(len(l))\n",
    "    #print(len(list(i[0])))"
   ]
  },
  {
   "cell_type": "code",
   "execution_count": null,
   "id": "bcf2eac2",
   "metadata": {},
   "outputs": [],
   "source": []
  }
 ],
 "metadata": {
  "kernelspec": {
   "display_name": "Python 3 (ipykernel)",
   "language": "python",
   "name": "python3"
  },
  "language_info": {
   "codemirror_mode": {
    "name": "ipython",
    "version": 3
   },
   "file_extension": ".py",
   "mimetype": "text/x-python",
   "name": "python",
   "nbconvert_exporter": "python",
   "pygments_lexer": "ipython3",
   "version": "3.9.12"
  }
 },
 "nbformat": 4,
 "nbformat_minor": 5
}
